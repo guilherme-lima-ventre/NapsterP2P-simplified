{
 "cells": [
  {
   "cell_type": "code",
   "execution_count": null,
   "metadata": {},
   "outputs": [],
   "source": [
    "# links\n",
    "# https://idiotdeveloper.com/large-file-transfer-using-tcp-socket-in-python/\n",
    "# https://docs.python.org/3/library/socket.html#socket.socket.connect\n",
    "# https://docs.python.org/3/library/io.html\n",
    "# https://realpython.com/intro-to-python-threading/\n",
    "# https://docs.python.org/3/library/threading.html"
   ]
  },
  {
   "cell_type": "code",
   "execution_count": 20,
   "metadata": {},
   "outputs": [
    {
     "name": "stdout",
     "output_type": "stream",
     "text": [
      "TESTE\n",
      "nao\n",
      "TESTE\n",
      "nao\n"
     ]
    }
   ],
   "source": [
    "import threading as th\n",
    "\n",
    "class Teste:\n",
    "    def __init__(self):\n",
    "        self.nome = 'TESTE'\n",
    "\n",
    "    def get_nome(self):\n",
    "        print(self.nome)\n",
    "        return self.nome\n",
    "    \n",
    "    def set_nome(self, nome):\n",
    "        self.nome = nome\n",
    "\n",
    "    def use_thread(self):\n",
    "        th.Thread(target=self.get_nome).start()\n",
    "\n",
    "a = Teste()\n",
    "a.get_nome()\n",
    "a.set_nome('nao')\n",
    "a.get_nome()\n",
    "a.set_nome('TESTE')\n",
    "a.use_thread()\n",
    "a.set_nome('nao')\n",
    "a.use_thread()"
   ]
  },
  {
   "cell_type": "code",
   "execution_count": 2,
   "metadata": {},
   "outputs": [
    {
     "name": "stdout",
     "output_type": "stream",
     "text": [
      "ta aquita aqui 2\n",
      " 1\n",
      "ta aqui 2\n",
      "ta aqui 1\n",
      "ta aqui 1\n",
      "ta aqui 2\n",
      "ta aqui 2\n",
      "ta aqui 1\n",
      "ta aqui 1\n",
      "ta aqui 1\n",
      "ta aqui 1\n",
      "ta aqui 2\n",
      "ta aqui 2\n",
      "ta aqui 2\n",
      "ta aqui 1\n",
      "ta aqui 2\n",
      "ta aqui 1\n",
      "ta aqui 1\n",
      "ta aqui 2\n",
      "ta aqui 2\n",
      "ta aqui 1\n",
      "ta aqui 1\n",
      "ta aqui 2\n",
      "ta aqui 1\n",
      "ta aqui 1\n",
      "ta aqui 2\n",
      "ta aqui 2\n",
      "ta aqui 2\n",
      "ta aqui 2\n",
      "ta aqui 2\n",
      "ta aqui 2\n",
      "ta aqui 2\n",
      "ta aqui 1\n",
      "ta aqui 2\n",
      "ta aqui 1\n",
      "ta aqui 1\n",
      "ta aqui 2\n",
      "ta aqui 2\n",
      "ta aqui 2\n",
      "ta aqui 2\n",
      "ta aqui 1\n",
      "ta aqui 2\n",
      "ta aqui 2\n",
      "ta aqui 1\n",
      "ta aqui 1\n",
      "ta aqui 2\n",
      "ta aqui 1\n",
      "ta aqui 2\n",
      "ta aqui 1\n",
      "ta aqui 1\n",
      "ta aqui 2\n",
      "ta aqui 1\n",
      "ta aqui 2\n",
      "ta aqui 1\n",
      "ta aqui 2\n",
      "ta aqui 2\n",
      "ta aqui 1\n",
      "ta aqui 2\n",
      "ta aqui 1\n",
      "ta aqui 2\n",
      "ta aqui 1\n",
      "ta aqui 1\n",
      "ta aqui 1\n",
      "ta aqui 1\n",
      "ta aqui 1\n",
      "ta aqui 1\n",
      "ta aqui 2\n",
      "ta aqui 2\n",
      "ta aqui 2\n",
      "ta aqui 1\n",
      "ta aqui 2\n",
      "ta aqui 2\n",
      "ta aqui 1\n",
      "ta aqui 1\n",
      "ta aqui 1\n",
      "ta aqui 1\n",
      "ta aqui 2\n",
      "ta aqui 1\n",
      "ta aqui 2\n",
      "ta aqui 2\n",
      "ta aqui 2\n",
      "ta aqui 2\n",
      "ta aqui 1\n",
      "ta aqui 2\n",
      "ta aqui 2\n",
      "ta aqui 2\n",
      "ta aqui 2\n",
      "ta aqui 1\n",
      "ta aqui 1\n",
      "ta aqui 2\n",
      "ta aqui 2\n"
     ]
    },
    {
     "ename": "",
     "evalue": "",
     "output_type": "error",
     "traceback": [
      "\u001b[1;31mCannot execute code, session has been disposed. Please try restarting the Kernel."
     ]
    },
    {
     "ename": "",
     "evalue": "",
     "output_type": "error",
     "traceback": [
      "\u001b[1;31mThe Kernel crashed while executing code in the the current cell or a previous cell. Please review the code in the cell(s) to identify a possible cause of the failure. Click <a href='https://aka.ms/vscodeJupyterKernelCrash'>here</a> for more info. View Jupyter <a href='command:jupyter.viewOutput'>log</a> for further details."
     ]
    }
   ],
   "source": [
    "import threading as th\n",
    "import time\n",
    "import random as rd\n",
    "\n",
    "def test(valor, igual):\n",
    "    while valor > 0:\n",
    "        # time.sleep(rd.randint(0, 10))\n",
    "        if valor == igual:\n",
    "            print(valor, '==', igual)\n",
    "        else:\n",
    "            print(valor, '!=', igual)\n",
    "        valor -= 1\n",
    "    test2()\n",
    "\n",
    "def test2(int):\n",
    "    # time.sleep(rd.randint(0, 10))\n",
    "    print('ta aqui', int)\n",
    "\n",
    "while True:\n",
    "    try:\n",
    "        th.Thread(target=test2, args=(1,)).start()\n",
    "        th.Thread(target=test2, args=(2,)).start()\n",
    "    except KeyboardInterrupt:\n",
    "        break\n",
    "\n",
    "\n",
    "\n"
   ]
  },
  {
   "cell_type": "code",
   "execution_count": 1,
   "metadata": {},
   "outputs": [
    {
     "name": "stdout",
     "output_type": "stream",
     "text": [
      "127.0.1.1 2221 C:\\Users\\guilh\\Desktop\\Projects\\SistemasDistribuidos\\EP1\\PEERS_FOLDERS\\PEER1\n",
      "\n",
      "b'{\"ip\": \"127.0.1.1\", \"port\": 2221, \"files\": [\"filme1.mp4\", \"legendaserie1.srt\", \"serie1.mp4\"]}'\n",
      "\n",
      "{'ip': '127.0.1.1', 'port': 2221, 'files': ['filme1.mp4', 'legendaserie1.srt', 'serie1.mp4']}\n",
      "\n",
      "Sou peer 127.0.1.1:2221 com arquivos filme1.mp4 legendaserie1.srt serie1.mp4\n"
     ]
    }
   ],
   "source": [
    "import os\n",
    "import json\n",
    "import socket\n",
    "\n",
    "ip = '127.0.1.' + input()\n",
    "port = 2220 + int(input())\n",
    "path_folder = fr'C:\\Users\\guilh\\Desktop\\Projects\\SistemasDistribuidos\\EP1\\PEERS_FOLDERS\\PEER{input()}'\n",
    "\n",
    "print(ip, port, path_folder, end='\\n\\n')\n",
    "\n",
    "if os.path.exists(path_folder):\n",
    "    files = os.listdir(path_folder)\n",
    "else:\n",
    "    os.mkdir(path_folder)\n",
    "    files = []\n",
    "\n",
    "client_infos = {'ip': ip, 'port': port, 'files': files}\n",
    "\n",
    "encoded_client_infos = json.dumps(client_infos).encode()\n",
    "\n",
    "print(encoded_client_infos, end='\\n\\n')\n",
    "\n",
    "decoded_client_infos = json.loads(encoded_client_infos.decode())\n",
    "\n",
    "print(decoded_client_infos, end='\\n\\n')\n",
    "\n",
    "print(f\"Sou peer {decoded_client_infos['ip']}:{decoded_client_infos['port']} com arquivos {' '.join(decoded_client_infos['files'])}\")\n",
    "\n",
    "\n",
    "\n"
   ]
  },
  {
   "cell_type": "code",
   "execution_count": 2,
   "metadata": {},
   "outputs": [
    {
     "data": {
      "text/plain": [
       "[{'a': ('12312', 23), 'b': ['uau', 'uau2', 'uau3']},\n",
       " {'a': ('1231213', 2123123), 'b': ['uudasdas', '123', '456']},\n",
       " {'a': ('3234523', 21123), 'b': ['asdasdsad']}]"
      ]
     },
     "execution_count": 2,
     "metadata": {},
     "output_type": "execute_result"
    }
   ],
   "source": [
    "import json\n",
    "\n",
    "peer_info = {'a':('1231213', 2123123), 'b':['uudasdas']}\n",
    "teste = [{'a':('12312', 23), 'b':['uau','uau2','uau3']}, {'a':('1231213', 2123123), 'b':['uudasdas']}, {'a':('3234523', 21123), 'b':['asdasdsad']}]\n",
    "teste = []\n",
    "\n",
    "for peer in teste:\n",
    "    if peer['a'] == peer_info['a']:\n",
    "        peer['b'].append('123')\n",
    "\n",
    "for peer in teste:\n",
    "    if peer['a'] == peer_info['a']:\n",
    "        peer['b'].append('456')\n",
    "\n",
    "teste.append"
   ]
  },
  {
   "cell_type": "code",
   "execution_count": 3,
   "metadata": {},
   "outputs": [
    {
     "data": {
      "text/plain": [
       "[{'a': ('12312', 23), 'b': ['uau', 'uau2', 'uau3']},\n",
       " {'a': ('1231213', 2123123), 'b': ['uudasdas', '123', '456']},\n",
       " {'a': ('3234523', 21123), 'b': ['asdasdsad']},\n",
       " {'a': ('444444', 2123), 'b': ['oba']}]"
      ]
     },
     "execution_count": 3,
     "metadata": {},
     "output_type": "execute_result"
    }
   ],
   "source": [
    "teste.append({'a':('444444', 2123), 'b':['oba']})\n",
    "teste"
   ]
  },
  {
   "cell_type": "code",
   "execution_count": 4,
   "metadata": {},
   "outputs": [
    {
     "name": "stdout",
     "output_type": "stream",
     "text": [
      "444444\n",
      "2123\n",
      "['oba']\n"
     ]
    }
   ],
   "source": [
    "print(teste[-1]['a'][0])\n",
    "print(teste[-1]['a'][1])\n",
    "print(teste[-1]['b'])"
   ]
  },
  {
   "cell_type": "code",
   "execution_count": 5,
   "metadata": {},
   "outputs": [
    {
     "data": {
      "text/plain": [
       "'12312:23 1231213:2123123 3234523:21123 444444:2123'"
      ]
     },
     "execution_count": 5,
     "metadata": {},
     "output_type": "execute_result"
    }
   ],
   "source": [
    "teste_addr = [peer['a'] for peer in teste]\n",
    "teste_addr = [ip + ':' + str(port) for ip, port in teste_addr]\n",
    "teste_addr = ' '.join(teste_addr)\n",
    "teste_addr"
   ]
  },
  {
   "cell_type": "code",
   "execution_count": null,
   "metadata": {},
   "outputs": [],
   "source": [
    "# n = 0\n",
    "# with open(r'C:\\Users\\guilh\\Desktop\\Projects\\SistemasDistribuidos\\EP1\\PEERS_FOLDERS\\PEER3' + '\\\\' + 'serie1.mp4', \"wb\") as video:\n",
    "#     n += 1\n",
    "#     i = 0\n",
    "#     while buffer:                \n",
    "#         video.write(buffer)\n",
    "#         print(\"buffer {0}\".format(i))\n",
    "#         i += 1\n",
    "        # buffer = connection.recv(1024)"
   ]
  },
  {
   "cell_type": "code",
   "execution_count": 11,
   "metadata": {},
   "outputs": [],
   "source": [
    "# video.close()"
   ]
  },
  {
   "cell_type": "code",
   "execution_count": null,
   "metadata": {},
   "outputs": [],
   "source": [
    "# path1 = r'C:\\Users\\guilh\\Desktop\\Projects\\SistemasDistribuidos\\EP1\\PEERS_FOLDERS\\PEER1' + '\\\\' + 'serie3.mp4'\n",
    "# path2 = r'C:\\Users\\guilh\\Desktop\\Projects\\SistemasDistribuidos\\EP1\\PEERS_FOLDERS\\PEER3' + '\\\\' + 'serie3.mp4'\n",
    "path1 = r'C:\\Users\\guilh\\Desktop\\Projects\\SistemasDistribuidos\\EP1\\PEERS_FOLDERS\\PEER1' + '\\\\' + 'legendaserie3.srt'\n",
    "path2 = r'C:\\Users\\guilh\\Desktop\\Projects\\SistemasDistribuidos\\EP1\\PEERS_FOLDERS\\PEER3' + '\\\\' + 'legendaserie3.srt'\n"
   ]
  },
  {
   "cell_type": "code",
   "execution_count": 8,
   "metadata": {},
   "outputs": [],
   "source": [
    "path_test = r'C:\\Users\\guilh\\Desktop\\Projects\\SistemasDistribuidos\\EP1\\PEERS_FOLDERS\\PEER1' + '\\\\' + 'teste.txt'\n",
    "\n",
    "with open(path_test, 'w') as teste:\n",
    "    teste.write('teste1')\n",
    "    teste.write('teste2')\n",
    "    teste.write('teste3')"
   ]
  },
  {
   "cell_type": "code",
   "execution_count": 4,
   "metadata": {},
   "outputs": [
    {
     "ename": "TypeError",
     "evalue": "readinto() argument must be read-write bytes-like object, not int",
     "output_type": "error",
     "traceback": [
      "\u001b[1;31m---------------------------------------------------------------------------\u001b[0m",
      "\u001b[1;31mTypeError\u001b[0m                                 Traceback (most recent call last)",
      "Cell \u001b[1;32mIn[4], line 8\u001b[0m\n\u001b[0;32m      6\u001b[0m \u001b[39mwith\u001b[39;00m \u001b[39mopen\u001b[39m(path2, \u001b[39m'\u001b[39m\u001b[39mrb\u001b[39m\u001b[39m'\u001b[39m) \u001b[39mas\u001b[39;00m file:\n\u001b[0;32m      7\u001b[0m     \u001b[39mwith\u001b[39;00m \u001b[39mopen\u001b[39m(path1, \u001b[39m'\u001b[39m\u001b[39mwb\u001b[39m\u001b[39m'\u001b[39m) \u001b[39mas\u001b[39;00m new:\n\u001b[1;32m----> 8\u001b[0m         new\u001b[39m.\u001b[39mwrite(file\u001b[39m.\u001b[39;49mreadinto(\u001b[39m1024\u001b[39;49m))\n",
      "\u001b[1;31mTypeError\u001b[0m: readinto() argument must be read-write bytes-like object, not int"
     ]
    }
   ],
   "source": [
    "path1 = r'C:\\Users\\guilh\\Desktop\\Projects\\SistemasDistribuidos\\EP1\\PEERS_FOLDERS\\PEER1' + '\\\\' + 'serie3.mp4'\n",
    "path2 = r'C:\\Users\\guilh\\Desktop\\Projects\\SistemasDistribuidos\\EP1\\PEERS_FOLDERS\\PEER3' + '\\\\' + 'serie3.mp4'\n",
    "# path1 = r'C:\\Users\\guilh\\Desktop\\Projects\\SistemasDistribuidos\\EP1\\PEERS_FOLDERS\\PEER1' + '\\\\' + 'legendaserie3.srt'\n",
    "# path2 = r'C:\\Users\\guilh\\Desktop\\Projects\\SistemasDistribuidos\\EP1\\PEERS_FOLDERS\\PEER3' + '\\\\' + 'legendaserie3.srt'\n",
    "\n",
    "with open(path2, 'rb') as file:\n",
    "    with open(path1, 'wb') as new:\n",
    "        new.write(file.readinto(1024))"
   ]
  },
  {
   "cell_type": "code",
   "execution_count": 6,
   "metadata": {},
   "outputs": [
    {
     "name": "stdout",
     "output_type": "stream",
     "text": [
      "1514308\n"
     ]
    }
   ],
   "source": [
    "path1 = r'C:\\Users\\guilh\\Desktop\\Projects\\SistemasDistribuidos\\EP1\\PEERS_FOLDERS\\PEER1' + '\\\\' + 'serie3.mp4'\n",
    "path2 = r'C:\\Users\\guilh\\Desktop\\Projects\\SistemasDistribuidos\\EP1\\PEERS_FOLDERS\\PEER3' + '\\\\' + 'serie3.mp4'\n",
    "iteracoes = 0\n",
    "with open(path2, 'rb') as file:\n",
    "    while True:\n",
    "        data = file.read(1024)\n",
    "\n",
    "        if data:\n",
    "            \n",
    "            iteracoes += 1\n",
    "        else: \n",
    "            break\n",
    "\n",
    "print(iteracoes)"
   ]
  },
  {
   "cell_type": "code",
   "execution_count": 10,
   "metadata": {},
   "outputs": [],
   "source": [
    "with open(path1, 'wb') as new_file:\n",
    "    with open(path2, 'rb') as file:\n",
    "        while True:\n",
    "            data = file.read(1024)\n",
    "\n",
    "            if data:\n",
    "                new_file.write(data)\n",
    "            else: \n",
    "                break\n"
   ]
  },
  {
   "cell_type": "code",
   "execution_count": 29,
   "metadata": {},
   "outputs": [
    {
     "name": "stdout",
     "output_type": "stream",
     "text": [
      "Socket criado!\n"
     ]
    }
   ],
   "source": [
    "import socket\n",
    "import os\n",
    "\n",
    "class Server:\n",
    "\n",
    "    def __init__(self):\n",
    "        # self.ip = str(input()) # 127.0.0.1\n",
    "        self.ip = '127.0.0.1'\n",
    "        # self.port = input() # 1099\n",
    "        self.port = 1099\n",
    "\n",
    "        self.server = socket.socket()\n",
    "        self.server.bind(('', self.port))\n",
    "        self.server.listen(2)\n",
    "\n",
    "        while True:\n",
    "            try:\n",
    "                c1, addr1 = self.server.accept()\n",
    "\n",
    "                c1.send(f'{addr1} | Conectou com o servidor:'.encode())\n",
    "            except:\n",
    "                print(\"addr1 | Não conectou\")\n",
    "\n",
    "            try:\n",
    "                c2, addr2 = self.server.accept()\n",
    "\n",
    "                c2.send(f'{addr2} | Conectou com o servidor'.encode())\n",
    "            except:\n",
    "                print(\"addr2 | Não conectou\")\n",
    "\n",
    "            try:\n",
    "                c3, addr3 = self.server.accept()\n",
    "\n",
    "                c3.send(f'{addr3} | Conectou com o servidor'.encode())\n",
    "            except:\n",
    "                print(\"addr3 | Não conectou\")\n",
    "\n",
    "            try:\n",
    "                c1.close()\n",
    "            except: pass\n",
    "            try:\n",
    "                c2.close()\n",
    "            except: pass\n",
    "            try:\n",
    "                c3.close()\n",
    "            except: pass"
   ]
  },
  {
   "cell_type": "code",
   "execution_count": 6,
   "metadata": {},
   "outputs": [
    {
     "name": "stdout",
     "output_type": "stream",
     "text": [
      "Falhou connect\n",
      "Falhou recv\n"
     ]
    }
   ],
   "source": [
    "import socket\n",
    "import os\n",
    "\n",
    "class Peer:\n",
    "\n",
    "    def __init__(self):\n",
    "        # self.ip = str(input())\n",
    "        self.ip = '127.0.0.2'\n",
    "        # self.port = input()\n",
    "        self.port = 2222\n",
    "        # self.path_folder = str(input())\n",
    "        self.path_folder = r'C:\\Users\\guilh\\Desktop\\Programar\\Sistemas Distribuídos (SD)\\teste.ipynb'\n",
    "\n",
    "        self.server_ip = '127.0.0.1'\n",
    "        self.server_port = 1099\n",
    "\n",
    "    def conn_server(self):\n",
    "        self.client = socket.socket()        \n",
    "        self.client.connect((self.server_ip, self.server_port))\n",
    "\n",
    "        print(self.client.recv(1024).decode())\n",
    "\n",
    "        self.client.close()"
   ]
  }
 ],
 "metadata": {
  "kernelspec": {
   "display_name": "Python 3",
   "language": "python",
   "name": "python3"
  },
  "language_info": {
   "codemirror_mode": {
    "name": "ipython",
    "version": 3
   },
   "file_extension": ".py",
   "mimetype": "text/x-python",
   "name": "python",
   "nbconvert_exporter": "python",
   "pygments_lexer": "ipython3",
   "version": "3.8.0"
  },
  "orig_nbformat": 4
 },
 "nbformat": 4,
 "nbformat_minor": 2
}
